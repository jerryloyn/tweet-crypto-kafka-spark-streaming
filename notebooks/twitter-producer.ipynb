{
 "cells": [
  {
   "cell_type": "code",
   "execution_count": null,
   "id": "860bea4b",
   "metadata": {},
   "outputs": [],
   "source": [
    "from dotenv import load_dotenv\n",
    "import os\n",
    "import json\n",
    "from kafka import KafkaProducer\n",
    "from kafka.admin import KafkaAdminClient, NewTopic\n",
    "from tweepy.streaming import StreamListener\n",
    "from tweepy import OAuthHandler\n",
    "from tweepy import Stream"
   ]
  },
  {
   "cell_type": "code",
   "execution_count": null,
   "id": "81935080",
   "metadata": {},
   "outputs": [],
   "source": [
    "load_dotenv()\n",
    "\n",
    "ACCESS_TOKEN = os.getenv('ACCESS_TOKEN')\n",
    "ACCESS_TOKEN_SECRET = os.getenv('ACCESS_TOKEN_SECRET')\n",
    "CONSUMER_KEY = os.getenv('CONSUMER_KEY')\n",
    "CONSUMER_SECRET = os.getenv('CONSUMER_SECRET')"
   ]
  },
  {
   "cell_type": "code",
   "execution_count": null,
   "id": "a4ca0df9",
   "metadata": {},
   "outputs": [],
   "source": [
    "topic_name = 'tweet-stream'\n",
    "words_to_track = [\"#crypto\"]"
   ]
  },
  {
   "cell_type": "code",
   "execution_count": null,
   "id": "c51c3615",
   "metadata": {},
   "outputs": [],
   "source": [
    "def create_topic(topic_name=None, num_partitions=1, replication_factor=1):\n",
    "    try:\n",
    "        admin_client = KafkaAdminClient(\n",
    "            bootstrap_servers=\"kafka-server:9092\", \n",
    "            client_id='test'\n",
    "        )\n",
    "\n",
    "        topic_list = []\n",
    "        topic_list.append(NewTopic(name=topic_name, num_partitions=num_partitions, replication_factor=replication_factor))\n",
    "        admin_client.create_topics(new_topics=topic_list, validate_only=False)\n",
    "        \n",
    "        print(f\"{topic_name} created!\")\n",
    "    \n",
    "    except Exception as err:\n",
    "        \n",
    "        print(f\"Request for topic creation is failing due to {err}\")\n",
    "        return False"
   ]
  },
  {
   "cell_type": "code",
   "execution_count": null,
   "id": "a88a3186",
   "metadata": {},
   "outputs": [],
   "source": [
    "def create_producer():\n",
    "    \n",
    "    producer = KafkaProducer(\n",
    "        bootstrap_servers='kafka-server:9092', #Kafka server\n",
    "        value_serializer=lambda v: json.dumps(v).encode('utf-8') #json serializer\n",
    "        )\n",
    "    \n",
    "    return producer"
   ]
  },
  {
   "cell_type": "code",
   "execution_count": null,
   "id": "01bdbeb1",
   "metadata": {},
   "outputs": [],
   "source": [
    "# Create a handler for the streaming data\n",
    "class StdOutListener(StreamListener):\n",
    "    \n",
    "    def __init__(self, topic_name, producer):\n",
    "        self.topic_name = topic_name\n",
    "        self.producer = producer\n",
    "\n",
    "    def on_data(self, data):\n",
    "        try:\n",
    "            msg = json.loads(data)\n",
    "            # print(msg['text'].encode('utf-8'))\n",
    "            \n",
    "            #Send msg to topic\n",
    "            producer.send(self.topic_name, str(msg['text']))\n",
    "        \n",
    "        except BaseException as e:\n",
    "            print(\"Error on_data: %s\" % str(e))     \n",
    "        \n",
    "        return True\n",
    "                \n",
    "    def on_error(self, status):\n",
    "        \n",
    "        print('Got an error with status code: ' + str(status_code))\n",
    "        return True # To continue listening\n",
    "\n",
    "    def on_timeout(self):\n",
    "\n",
    "        print('Timeout...')\n",
    "        return True # To continue listening\n"
   ]
  },
  {
   "cell_type": "code",
   "execution_count": null,
   "id": "17d254ce",
   "metadata": {},
   "outputs": [],
   "source": [
    "class TwitterStreamer():\n",
    "    \"\"\"\n",
    "    Class for streaming and processing live tweets.\n",
    "    \"\"\"\n",
    "    def __init__(self):\n",
    "        pass\n",
    "\n",
    "    def stream_tweets(self, topic_name, producer, words_to_track):\n",
    "        # This handles Twitter authetification and the connection to Twitter Streaming API\n",
    "        listener = StdOutListener(topic_name, producer)\n",
    "        auth = OAuthHandler(CONSUMER_KEY, CONSUMER_SECRET)\n",
    "        auth.set_access_token(ACCESS_TOKEN, ACCESS_TOKEN_SECRET)\n",
    "        stream = Stream(auth, listener)\n",
    "\n",
    "        # This line filter Twitter Streams to capture data by the keywords:= \n",
    "        stream.filter(track=words_to_track)"
   ]
  },
  {
   "cell_type": "code",
   "execution_count": null,
   "id": "cfd02091",
   "metadata": {
    "scrolled": false
   },
   "outputs": [],
   "source": [
    "if __name__ == '__main__':\n",
    "    \n",
    "    create_topic(topic_name)\n",
    "    producer = create_producer()\n",
    " \n",
    "    twitter_streamer = TwitterStreamer()\n",
    "    twitter_streamer.stream_tweets(topic_name, producer, words_to_track)"
   ]
  }
 ],
 "metadata": {
  "kernelspec": {
   "display_name": "Python 3",
   "language": "python",
   "name": "python3"
  },
  "language_info": {
   "codemirror_mode": {
    "name": "ipython",
    "version": 3
   },
   "file_extension": ".py",
   "mimetype": "text/x-python",
   "name": "python",
   "nbconvert_exporter": "python",
   "pygments_lexer": "ipython3",
   "version": "3.9.4"
  }
 },
 "nbformat": 4,
 "nbformat_minor": 5
}
