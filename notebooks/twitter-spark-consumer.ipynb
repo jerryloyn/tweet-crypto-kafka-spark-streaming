{
 "cells": [
  {
   "cell_type": "code",
   "execution_count": 1,
   "id": "18192500",
   "metadata": {},
   "outputs": [],
   "source": [
    "from pyspark.sql import SparkSession\n",
    "from pyspark.sql.types import StringType, TimestampType\n",
    "from pyspark.sql.functions import window, col, explode, split, length, upper , row_number\n",
    "\n",
    "# Spark session\n",
    "spark = (SparkSession\n",
    "         .builder\n",
    "         .master('local[1]')\n",
    "         .appName('twitter-consumer')\n",
    "         # Add kafka package\n",
    "         .config(\"spark.jars.packages\", \"org.apache.spark:spark-sql-kafka-0-10_2.12:3.1.1\")\n",
    "         .getOrCreate())"
   ]
  },
  {
   "cell_type": "code",
   "execution_count": 2,
   "id": "576abed0",
   "metadata": {},
   "outputs": [],
   "source": [
    "# Create stream dataframe setting kafka server, topic and offset option\n",
    "df = (spark\n",
    "  .readStream\n",
    "  .format(\"kafka\")\n",
    "  .option(\"kafka.bootstrap.servers\", \"kafka-server:9092\") # kafka server\n",
    "  .option(\"subscribe\", \"tweet-stream\") # topic\n",
    "  .option(\"startingOffsets\", \"earliest\") # start from beginning \n",
    "  .load())"
   ]
  },
  {
   "cell_type": "code",
   "execution_count": 3,
   "id": "18473af7",
   "metadata": {},
   "outputs": [],
   "source": [
    "# Convert binary to string key and value\n",
    "df1 = (df\n",
    "    .withColumn(\"timestamp\", df[\"timestamp\"].cast(TimestampType()))\n",
    "    .withColumn(\"key\", df[\"key\"].cast(StringType()))\n",
    "    .withColumn(\"value\", df[\"value\"].cast(StringType())))"
   ]
  },
  {
   "cell_type": "code",
   "execution_count": 4,
   "id": "af34ea60",
   "metadata": {},
   "outputs": [],
   "source": [
    "# Explode the text to words\n",
    "exploded_df = df1.withColumn(\"crypto\", explode(split(col(\"value\"), \" \" ))).select(\"timestamp\", \"crypto\")"
   ]
  },
  {
   "cell_type": "code",
   "execution_count": 5,
   "id": "68ffa487",
   "metadata": {},
   "outputs": [],
   "source": [
    "count_df = exploded_df \\\n",
    "    .filter((exploded_df.crypto.rlike(r'^\\#([a-z]{3,4}|[A-Z]{3,4})$')) & (upper(col(\"crypto\"))!='#NFT')) \\\n",
    "    .withWatermark(\"timestamp\", \"5 minute\") \\\n",
    "    .groupBy(window(col(\"timestamp\"), \"5 minute\", \"10 second\"),upper(col(\"crypto\")).alias(\"crypto\")) \\\n",
    "    .count()"
   ]
  },
  {
   "cell_type": "code",
   "execution_count": 6,
   "id": "288a97dd",
   "metadata": {},
   "outputs": [],
   "source": [
    "queryStream = (count_df\n",
    " .writeStream\n",
    " .format(\"memory\")\n",
    " .queryName(\"tweet_count\")\n",
    " .outputMode(\"append\")\n",
    " .start())"
   ]
  },
  {
   "cell_type": "code",
   "execution_count": 7,
   "id": "011f9c1e",
   "metadata": {
    "collapsed": true
   },
   "outputs": [
    {
     "name": "stdout",
     "output_type": "stream",
     "text": [
      "**********************\n",
      "General Info\n",
      "**********************\n",
      "Run:8\n",
      "Stream timestamp:2021-10-04T14:52:46.059Z\n",
      "Watermark:2021-10-04T14:47:36.062Z\n",
      "Total Rows:3559\n",
      "Updated Rows:241\n",
      "Memory used MB:1.08716\n",
      "**********************\n",
      "Graph - Top 10 crypto\n",
      "**********************\n"
     ]
    },
    {
     "data": {
      "image/png": "[encoded data removed]",
      "text/plain": [
       "<Figure size 576x432 with 1 Axes>"
      ]
     },
     "metadata": {},
     "output_type": "display_data"
    },
    {
     "name": "stdout",
     "output_type": "stream",
     "text": [
      "process interrupted.\n"
     ]
    }
   ],
   "source": [
    "from time import sleep\n",
    "from IPython.display import clear_output\n",
    "import seaborn as sns\n",
    "import matplotlib\n",
    "import matplotlib.pyplot as plt\n",
    "\n",
    "%matplotlib inline \n",
    "\n",
    "matplotlib.rc('font', family='DejaVu Sans')\n",
    "sns.set(style=\"whitegrid\")\n",
    "\n",
    "\n",
    "try:\n",
    "    i=1\n",
    "    while True:\n",
    "        # Clear output\n",
    "        clear_output(wait=True)\n",
    "        print(\"**********************\")\n",
    "        print(\"General Info\")\n",
    "        print(\"**********************\")\n",
    "        print(\"Run:{}\".format(i))\n",
    "        if (len(queryStream.recentProgress) > 0):\n",
    "            print(\"Stream timestamp:{}\".format(queryStream.lastProgress[\"timestamp\"]))\n",
    "            print(\"Watermark:{}\".format(queryStream.lastProgress[\"eventTime\"][\"watermark\"]))\n",
    "            print(\"Total Rows:{}\".format(queryStream.lastProgress[\"stateOperators\"][0][\"numRowsTotal\"]))\n",
    "            print(\"Updated Rows:{}\".format(queryStream.lastProgress[\"stateOperators\"][0][\"numRowsUpdated\"]))\n",
    "            print(\"Memory used MB:{}\".format((queryStream.lastProgress[\"stateOperators\"][0][\"memoryUsedBytes\"]) * 0.000001))\n",
    "            \n",
    "        df = spark.sql(\n",
    "                \"\"\"\n",
    "                    select\n",
    "                        window.start\n",
    "                        ,window.end\n",
    "                        ,crypto\n",
    "                        ,sum(count) count\n",
    "                    from\n",
    "                        tweet_count\n",
    "                    where\n",
    "                        window.start = (select max(window.start) from tweet_count)\n",
    "                    group by\n",
    "                        window.start\n",
    "                        ,window.end\n",
    "                        ,crypto\n",
    "                    order by\n",
    "                        4 desc\n",
    "                    limit 10\n",
    "                \"\"\"\n",
    "        ).toPandas()\n",
    "\n",
    "        # Plot the total crashes\n",
    "        sns.set_color_codes(\"muted\")\n",
    "\n",
    "        # Initialize the matplotlib figure\n",
    "        plt.figure(figsize=(8,6))\n",
    "\n",
    "        print(\"**********************\")\n",
    "        print(\"Graph - Top 10 crypto\")\n",
    "        print(\"**********************\")\n",
    "        try:\n",
    "            # Barplot\n",
    "            sns.barplot(x=\"count\", y=\"crypto\", data=df)\n",
    "\n",
    "            # Show barplot\n",
    "            plt.show()\n",
    "        except ValueError:\n",
    "            # If Dataframe is empty, pass\n",
    "            pass\n",
    "\n",
    "        sleep(10)\n",
    "        i=i+1\n",
    "except KeyboardInterrupt:\n",
    "    print(\"process interrupted.\")"
   ]
  }
 ],
 "metadata": {
  "kernelspec": {
   "display_name": "Python 3",
   "language": "python",
   "name": "python3"
  },
  "language_info": {
   "codemirror_mode": {
    "name": "ipython",
    "version": 3
   },
   "file_extension": ".py",
   "mimetype": "text/x-python",
   "name": "python",
   "nbconvert_exporter": "python",
   "pygments_lexer": "ipython3",
   "version": "3.9.4"
  }
 },
 "nbformat": 4,
 "nbformat_minor": 5
}
